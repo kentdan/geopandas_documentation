{
 "cells": [
  {
   "cell_type": "code",
   "execution_count": 12,
   "metadata": {},
   "outputs": [],
   "source": [
    "import geopandas"
   ]
  },
  {
   "cell_type": "code",
   "execution_count": 13,
   "metadata": {},
   "outputs": [
    {
     "ename": "ImportError",
     "evalue": "the 'read_file' function requires the 'fiona' package, but it is not installed or does not import correctly.\nImporting fiona resulted in: dlopen(/Users/danielkent/miniforge3/envs/cv/lib/python3.9/site-packages/fiona/ogrext.cpython-39-darwin.so, 0x0002): Symbol not found: _ZSTD_compressBound\n  Referenced from: /Users/danielkent/miniforge3/envs/cv/lib/libgdal.30.dylib\n  Expected in: /Users/danielkent/miniforge3/envs/cv/lib/libblosc.1.21.1.dylib",
     "output_type": "error",
     "traceback": [
      "\u001b[0;31m---------------------------------------------------------------------------\u001b[0m",
      "\u001b[0;31mImportError\u001b[0m                               Traceback (most recent call last)",
      "\u001b[1;32m/Users/danielkent/Desktop/map/dfgeo.ipynb Cell 2'\u001b[0m in \u001b[0;36m<cell line: 1>\u001b[0;34m()\u001b[0m\n\u001b[0;32m----> <a href='vscode-notebook-cell:/Users/danielkent/Desktop/map/dfgeo.ipynb#ch0000001?line=0'>1</a>\u001b[0m world \u001b[39m=\u001b[39m geopandas\u001b[39m.\u001b[39;49mread_file(geopandas\u001b[39m.\u001b[39;49mdatasets\u001b[39m.\u001b[39;49mget_path(\u001b[39m'\u001b[39;49m\u001b[39mnaturalearth_lowres\u001b[39;49m\u001b[39m'\u001b[39;49m))\n",
      "File \u001b[0;32m~/miniforge3/envs/cv/lib/python3.9/site-packages/geopandas/io/file.py:166\u001b[0m, in \u001b[0;36m_read_file\u001b[0;34m(filename, bbox, mask, rows, **kwargs)\u001b[0m\n\u001b[1;32m    104\u001b[0m \u001b[39mdef\u001b[39;00m \u001b[39m_read_file\u001b[39m(filename, bbox\u001b[39m=\u001b[39m\u001b[39mNone\u001b[39;00m, mask\u001b[39m=\u001b[39m\u001b[39mNone\u001b[39;00m, rows\u001b[39m=\u001b[39m\u001b[39mNone\u001b[39;00m, \u001b[39m*\u001b[39m\u001b[39m*\u001b[39mkwargs):\n\u001b[1;32m    105\u001b[0m     \u001b[39m\"\"\"\u001b[39;00m\n\u001b[1;32m    106\u001b[0m \u001b[39m    Returns a GeoDataFrame from a file or URL.\u001b[39;00m\n\u001b[1;32m    107\u001b[0m \n\u001b[0;32m   (...)\u001b[0m\n\u001b[1;32m    164\u001b[0m \u001b[39m    by using the encoding keyword parameter, e.g. ``encoding='utf-8'``.\u001b[39;00m\n\u001b[1;32m    165\u001b[0m \u001b[39m    \"\"\"\u001b[39;00m\n\u001b[0;32m--> 166\u001b[0m     _check_fiona(\u001b[39m\"\u001b[39;49m\u001b[39m'\u001b[39;49m\u001b[39mread_file\u001b[39;49m\u001b[39m'\u001b[39;49m\u001b[39m function\u001b[39;49m\u001b[39m\"\u001b[39;49m)\n\u001b[1;32m    167\u001b[0m     filename \u001b[39m=\u001b[39m _expand_user(filename)\n\u001b[1;32m    169\u001b[0m     \u001b[39mif\u001b[39;00m _is_url(filename):\n",
      "File \u001b[0;32m~/miniforge3/envs/cv/lib/python3.9/site-packages/geopandas/io/file.py:80\u001b[0m, in \u001b[0;36m_check_fiona\u001b[0;34m(func)\u001b[0m\n\u001b[1;32m     78\u001b[0m \u001b[39mdef\u001b[39;00m \u001b[39m_check_fiona\u001b[39m(func):\n\u001b[1;32m     79\u001b[0m     \u001b[39mif\u001b[39;00m fiona \u001b[39mis\u001b[39;00m \u001b[39mNone\u001b[39;00m:\n\u001b[0;32m---> 80\u001b[0m         \u001b[39mraise\u001b[39;00m \u001b[39mImportError\u001b[39;00m(\n\u001b[1;32m     81\u001b[0m             \u001b[39mf\u001b[39m\u001b[39m\"\u001b[39m\u001b[39mthe \u001b[39m\u001b[39m{\u001b[39;00mfunc\u001b[39m}\u001b[39;00m\u001b[39m requires the \u001b[39m\u001b[39m'\u001b[39m\u001b[39mfiona\u001b[39m\u001b[39m'\u001b[39m\u001b[39m package, but it is not installed or does \u001b[39m\u001b[39m\"\u001b[39m\n\u001b[1;32m     82\u001b[0m             \u001b[39mf\u001b[39m\u001b[39m\"\u001b[39m\u001b[39mnot import correctly.\u001b[39m\u001b[39m\\n\u001b[39;00m\u001b[39mImporting fiona resulted in: \u001b[39m\u001b[39m{\u001b[39;00mfiona_import_error\u001b[39m}\u001b[39;00m\u001b[39m\"\u001b[39m\n\u001b[1;32m     83\u001b[0m         )\n",
      "\u001b[0;31mImportError\u001b[0m: the 'read_file' function requires the 'fiona' package, but it is not installed or does not import correctly.\nImporting fiona resulted in: dlopen(/Users/danielkent/miniforge3/envs/cv/lib/python3.9/site-packages/fiona/ogrext.cpython-39-darwin.so, 0x0002): Symbol not found: _ZSTD_compressBound\n  Referenced from: /Users/danielkent/miniforge3/envs/cv/lib/libgdal.30.dylib\n  Expected in: /Users/danielkent/miniforge3/envs/cv/lib/libblosc.1.21.1.dylib"
     ]
    }
   ],
   "source": [
    "world = geopandas.read_file(geopandas.datasets.get_path('naturalearth_lowres'))"
   ]
  }
 ],
 "metadata": {
  "kernelspec": {
   "display_name": "Python 3.9.4 ('cv')",
   "language": "python",
   "name": "python3"
  },
  "language_info": {
   "codemirror_mode": {
    "name": "ipython",
    "version": 3
   },
   "file_extension": ".py",
   "mimetype": "text/x-python",
   "name": "python",
   "nbconvert_exporter": "python",
   "pygments_lexer": "ipython3",
   "version": "3.9.4"
  },
  "orig_nbformat": 4,
  "vscode": {
   "interpreter": {
    "hash": "f95b2c1aeeb9c94d93826e4150060d9ef09ce94daf9ee24113f4c5f6e64177f4"
   }
  }
 },
 "nbformat": 4,
 "nbformat_minor": 2
}
