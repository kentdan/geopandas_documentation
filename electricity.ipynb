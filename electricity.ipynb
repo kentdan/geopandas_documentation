{
 "cells": [
  {
   "cell_type": "code",
   "execution_count": 1,
   "id": "b1e5dac2",
   "metadata": {},
   "outputs": [],
   "source": [
    "import pandas as pd\n",
    "import geopandas \n",
    "import folium"
   ]
  },
  {
   "cell_type": "code",
   "execution_count": 2,
   "id": "685d9c7b",
   "metadata": {},
   "outputs": [
    {
     "ename": "ImportError",
     "evalue": "the 'read_file' function requires the 'fiona' package, but it is not installed or does not import correctly.\nImporting fiona resulted in: dlopen(/Users/danielkent/miniforge3/envs/cv/lib/python3.9/site-packages/fiona/ogrext.cpython-39-darwin.so, 0x0002): Symbol not found: _ZSTD_compressBound\n  Referenced from: /Users/danielkent/miniforge3/envs/cv/lib/libgdal.30.dylib\n  Expected in: /Users/danielkent/miniforge3/envs/cv/lib/libblosc.1.21.1.dylib",
     "output_type": "error",
     "traceback": [
      "\u001b[0;31m---------------------------------------------------------------------------\u001b[0m",
      "\u001b[0;31mImportError\u001b[0m                               Traceback (most recent call last)",
      "\u001b[1;32m/Users/danielkent/Desktop/map/electricity.ipynb Cell 2'\u001b[0m in \u001b[0;36m<cell line: 9>\u001b[0;34m()\u001b[0m\n\u001b[1;32m      <a href='vscode-notebook-cell:/Users/danielkent/Desktop/map/electricity.ipynb#ch0000001?line=5'>6</a>\u001b[0m pd\u001b[39m.\u001b[39mset_option(\u001b[39m'\u001b[39m\u001b[39mdisplay.width\u001b[39m\u001b[39m'\u001b[39m,\u001b[39m100\u001b[39m) \u001b[39m#character\u001b[39;00m\n\u001b[1;32m      <a href='vscode-notebook-cell:/Users/danielkent/Desktop/map/electricity.ipynb#ch0000001?line=6'>7</a>\u001b[0m pd\u001b[39m.\u001b[39mset_option(\u001b[39m'\u001b[39m\u001b[39mdisplay.max_rows\u001b[39m\u001b[39m'\u001b[39m,\u001b[39m220\u001b[39m)\n\u001b[0;32m----> <a href='vscode-notebook-cell:/Users/danielkent/Desktop/map/electricity.ipynb#ch0000001?line=8'>9</a>\u001b[0m world \u001b[39m=\u001b[39m geopandas\u001b[39m.\u001b[39;49mread_file(geopandas\u001b[39m.\u001b[39;49mdatasets\u001b[39m.\u001b[39;49mget_path(\u001b[39m'\u001b[39;49m\u001b[39mnaturalearth_lowres\u001b[39;49m\u001b[39m'\u001b[39;49m))\n\u001b[1;32m     <a href='vscode-notebook-cell:/Users/danielkent/Desktop/map/electricity.ipynb#ch0000001?line=10'>11</a>\u001b[0m table \u001b[39m=\u001b[39m world\u001b[39m.\u001b[39mmerge(table, how\u001b[39m=\u001b[39m\u001b[39m\"\u001b[39m\u001b[39mleft\u001b[39m\u001b[39m\"\u001b[39m, left_on\u001b[39m=\u001b[39m[\u001b[39m'\u001b[39m\u001b[39mname\u001b[39m\u001b[39m'\u001b[39m], right_on\u001b[39m=\u001b[39m[\u001b[39m'\u001b[39m\u001b[39mCountry/Region\u001b[39m\u001b[39m'\u001b[39m])\n\u001b[1;32m     <a href='vscode-notebook-cell:/Users/danielkent/Desktop/map/electricity.ipynb#ch0000001?line=11'>12</a>\u001b[0m \u001b[39m#table = table.dropna(subset=['Average electrical energy per capita (kWh per person per year)'])\u001b[39;00m\n",
      "File \u001b[0;32m~/miniforge3/envs/cv/lib/python3.9/site-packages/geopandas/io/file.py:166\u001b[0m, in \u001b[0;36m_read_file\u001b[0;34m(filename, bbox, mask, rows, **kwargs)\u001b[0m\n\u001b[1;32m    104\u001b[0m \u001b[39mdef\u001b[39;00m \u001b[39m_read_file\u001b[39m(filename, bbox\u001b[39m=\u001b[39m\u001b[39mNone\u001b[39;00m, mask\u001b[39m=\u001b[39m\u001b[39mNone\u001b[39;00m, rows\u001b[39m=\u001b[39m\u001b[39mNone\u001b[39;00m, \u001b[39m*\u001b[39m\u001b[39m*\u001b[39mkwargs):\n\u001b[1;32m    105\u001b[0m     \u001b[39m\"\"\"\u001b[39;00m\n\u001b[1;32m    106\u001b[0m \u001b[39m    Returns a GeoDataFrame from a file or URL.\u001b[39;00m\n\u001b[1;32m    107\u001b[0m \n\u001b[0;32m   (...)\u001b[0m\n\u001b[1;32m    164\u001b[0m \u001b[39m    by using the encoding keyword parameter, e.g. ``encoding='utf-8'``.\u001b[39;00m\n\u001b[1;32m    165\u001b[0m \u001b[39m    \"\"\"\u001b[39;00m\n\u001b[0;32m--> 166\u001b[0m     _check_fiona(\u001b[39m\"\u001b[39;49m\u001b[39m'\u001b[39;49m\u001b[39mread_file\u001b[39;49m\u001b[39m'\u001b[39;49m\u001b[39m function\u001b[39;49m\u001b[39m\"\u001b[39;49m)\n\u001b[1;32m    167\u001b[0m     filename \u001b[39m=\u001b[39m _expand_user(filename)\n\u001b[1;32m    169\u001b[0m     \u001b[39mif\u001b[39;00m _is_url(filename):\n",
      "File \u001b[0;32m~/miniforge3/envs/cv/lib/python3.9/site-packages/geopandas/io/file.py:80\u001b[0m, in \u001b[0;36m_check_fiona\u001b[0;34m(func)\u001b[0m\n\u001b[1;32m     78\u001b[0m \u001b[39mdef\u001b[39;00m \u001b[39m_check_fiona\u001b[39m(func):\n\u001b[1;32m     79\u001b[0m     \u001b[39mif\u001b[39;00m fiona \u001b[39mis\u001b[39;00m \u001b[39mNone\u001b[39;00m:\n\u001b[0;32m---> 80\u001b[0m         \u001b[39mraise\u001b[39;00m \u001b[39mImportError\u001b[39;00m(\n\u001b[1;32m     81\u001b[0m             \u001b[39mf\u001b[39m\u001b[39m\"\u001b[39m\u001b[39mthe \u001b[39m\u001b[39m{\u001b[39;00mfunc\u001b[39m}\u001b[39;00m\u001b[39m requires the \u001b[39m\u001b[39m'\u001b[39m\u001b[39mfiona\u001b[39m\u001b[39m'\u001b[39m\u001b[39m package, but it is not installed or does \u001b[39m\u001b[39m\"\u001b[39m\n\u001b[1;32m     82\u001b[0m             \u001b[39mf\u001b[39m\u001b[39m\"\u001b[39m\u001b[39mnot import correctly.\u001b[39m\u001b[39m\\n\u001b[39;00m\u001b[39mImporting fiona resulted in: \u001b[39m\u001b[39m{\u001b[39;00mfiona_import_error\u001b[39m}\u001b[39;00m\u001b[39m\"\u001b[39m\n\u001b[1;32m     83\u001b[0m         )\n",
      "\u001b[0;31mImportError\u001b[0m: the 'read_file' function requires the 'fiona' package, but it is not installed or does not import correctly.\nImporting fiona resulted in: dlopen(/Users/danielkent/miniforge3/envs/cv/lib/python3.9/site-packages/fiona/ogrext.cpython-39-darwin.so, 0x0002): Symbol not found: _ZSTD_compressBound\n  Referenced from: /Users/danielkent/miniforge3/envs/cv/lib/libgdal.30.dylib\n  Expected in: /Users/danielkent/miniforge3/envs/cv/lib/libblosc.1.21.1.dylib"
     ]
    }
   ],
   "source": [
    "url = 'https://en.wikipedia.org/wiki/List_of_countries_by_electricity_consumption'\n",
    "tables = pd.read_html(url)\n",
    "table = tables[0] #1st table\n",
    "\n",
    "pd.set_option('display.max_columns',10)\n",
    "pd.set_option('display.width',100) #character\n",
    "pd.set_option('display.max_rows',220)\n",
    "\n",
    "world = geopandas.read_file(geopandas.datasets.get_path('naturalearth_lowres'))\n",
    "\n",
    "table = world.merge(table, how=\"left\", left_on=['name'], right_on=['Country/Region'])\n",
    "#table = table.dropna(subset=['Average electrical energy per capita (kWh per person per year)'])\n",
    "print(table)"
   ]
  },
  {
   "cell_type": "code",
   "execution_count": null,
   "id": "737beed0",
   "metadata": {},
   "outputs": [],
   "source": [
    "my_map = folium.Map()\n",
    "folium.Choropleth(\n",
    "    geo_data=table,\n",
    "    name='choropleth',\n",
    "    data=table,\n",
    "    columns=['Country/Region', 'Average electrical energy per capita (kWh per person per year)'],\n",
    "    key_on='feature.properties.name',\n",
    "    fill_color='RdBu',\n",
    "    fill_opacity=0.7,\n",
    "    line_opacity=0.2,\n",
    "    legend_name='Average electrical energy per capita (kWh per person per year)'\n",
    ").add_to(my_map)\n",
    "my_map.save('electricity_consumption.html')"
   ]
  },
  {
   "cell_type": "code",
   "execution_count": null,
   "id": "cc13be90",
   "metadata": {},
   "outputs": [],
   "source": []
  }
 ],
 "metadata": {
  "kernelspec": {
   "display_name": "Python 3.10 (cv)",
   "language": "python",
   "name": "cv"
  },
  "language_info": {
   "codemirror_mode": {
    "name": "ipython",
    "version": 3
   },
   "file_extension": ".py",
   "mimetype": "text/x-python",
   "name": "python",
   "nbconvert_exporter": "python",
   "pygments_lexer": "ipython3",
   "version": "3.9.4"
  }
 },
 "nbformat": 4,
 "nbformat_minor": 5
}
