{
 "cells": [
  {
   "cell_type": "code",
   "execution_count": 3,
   "id": "b1e5dac2",
   "metadata": {},
   "outputs": [
    {
     "ename": "ModuleNotFoundError",
     "evalue": "No module named 'folium'",
     "output_type": "error",
     "traceback": [
      "\u001b[0;31m---------------------------------------------------------------------------\u001b[0m",
      "\u001b[0;31mModuleNotFoundError\u001b[0m                       Traceback (most recent call last)",
      "\u001b[1;32m/Users/danielkent/Desktop/geopandas_documentation/electricity.ipynb Cell 1'\u001b[0m in \u001b[0;36m<cell line: 3>\u001b[0;34m()\u001b[0m\n\u001b[1;32m      <a href='vscode-notebook-cell:/Users/danielkent/Desktop/geopandas_documentation/electricity.ipynb#ch0000000?line=0'>1</a>\u001b[0m \u001b[39mimport\u001b[39;00m \u001b[39mpandas\u001b[39;00m \u001b[39mas\u001b[39;00m \u001b[39mpd\u001b[39;00m\n\u001b[1;32m      <a href='vscode-notebook-cell:/Users/danielkent/Desktop/geopandas_documentation/electricity.ipynb#ch0000000?line=1'>2</a>\u001b[0m \u001b[39mimport\u001b[39;00m \u001b[39mgeopandas\u001b[39;00m \n\u001b[0;32m----> <a href='vscode-notebook-cell:/Users/danielkent/Desktop/geopandas_documentation/electricity.ipynb#ch0000000?line=2'>3</a>\u001b[0m \u001b[39mimport\u001b[39;00m \u001b[39mfolium\u001b[39;00m\n",
      "\u001b[0;31mModuleNotFoundError\u001b[0m: No module named 'folium'"
     ]
    }
   ],
   "source": [
    "import pandas as pd\n",
    "import geopandas \n",
    "import folium"
   ]
  },
  {
   "cell_type": "code",
   "execution_count": 1,
   "id": "685d9c7b",
   "metadata": {},
   "outputs": [
    {
     "ename": "NameError",
     "evalue": "name 'pd' is not defined",
     "output_type": "error",
     "traceback": [
      "\u001b[0;31m---------------------------------------------------------------------------\u001b[0m",
      "\u001b[0;31mNameError\u001b[0m                                 Traceback (most recent call last)",
      "\u001b[1;32m/Users/danielkent/Desktop/geopandas_documentation/electricity.ipynb Cell 1'\u001b[0m in \u001b[0;36m<cell line: 2>\u001b[0;34m()\u001b[0m\n\u001b[1;32m      <a href='vscode-notebook-cell:/Users/danielkent/Desktop/geopandas_documentation/electricity.ipynb#ch0000000?line=0'>1</a>\u001b[0m url \u001b[39m=\u001b[39m \u001b[39m'\u001b[39m\u001b[39mhttps://en.wikipedia.org/wiki/List_of_countries_by_electricity_consumption\u001b[39m\u001b[39m'\u001b[39m\n\u001b[0;32m----> <a href='vscode-notebook-cell:/Users/danielkent/Desktop/geopandas_documentation/electricity.ipynb#ch0000000?line=1'>2</a>\u001b[0m tables \u001b[39m=\u001b[39m pd\u001b[39m.\u001b[39mread_html(url)\n\u001b[1;32m      <a href='vscode-notebook-cell:/Users/danielkent/Desktop/geopandas_documentation/electricity.ipynb#ch0000000?line=2'>3</a>\u001b[0m table \u001b[39m=\u001b[39m tables[\u001b[39m0\u001b[39m] \u001b[39m#1st table\u001b[39;00m\n\u001b[1;32m      <a href='vscode-notebook-cell:/Users/danielkent/Desktop/geopandas_documentation/electricity.ipynb#ch0000000?line=4'>5</a>\u001b[0m pd\u001b[39m.\u001b[39mset_option(\u001b[39m'\u001b[39m\u001b[39mdisplay.max_columns\u001b[39m\u001b[39m'\u001b[39m,\u001b[39m10\u001b[39m)\n",
      "\u001b[0;31mNameError\u001b[0m: name 'pd' is not defined"
     ]
    }
   ],
   "source": [
    "url = 'https://en.wikipedia.org/wiki/List_of_countries_by_electricity_consumption'\n",
    "tables = pd.read_html(url)\n",
    "table = tables[0] #1st table\n",
    "\n",
    "pd.set_option('display.max_columns',10)\n",
    "pd.set_option('display.width',100) #character\n",
    "pd.set_option('display.max_rows',220)\n",
    "\n",
    "world = geopandas.read_file(geopandas.datasets.get_path('naturalearth_lowres'))\n",
    "\n",
    "table = world.merge(table, how=\"left\", left_on=['name'], right_on=['Country/Region'])\n",
    "#table = table.dropna(subset=['Average electrical energy per capita (kWh per person per year)'])\n",
    "print(table)"
   ]
  },
  {
   "cell_type": "code",
   "execution_count": null,
   "id": "737beed0",
   "metadata": {},
   "outputs": [],
   "source": [
    "my_map = folium.Map()\n",
    "folium.Choropleth(\n",
    "    geo_data=table,\n",
    "    name='choropleth',\n",
    "    data=table,\n",
    "    columns=['Country/Region', 'Average electrical energy per capita (kWh per person per year)'],\n",
    "    key_on='feature.properties.name',\n",
    "    fill_color='RdBu',\n",
    "    fill_opacity=0.7,\n",
    "    line_opacity=0.2,\n",
    "    legend_name='Average electrical energy per capita (kWh per person per year)'\n",
    ").add_to(my_map)\n",
    "my_map.save('electricity_consumption.html')"
   ]
  },
  {
   "cell_type": "code",
   "execution_count": null,
   "id": "cc13be90",
   "metadata": {},
   "outputs": [],
   "source": []
  }
 ],
 "metadata": {
  "kernelspec": {
   "display_name": "Python 3.8.13 ('ds')",
   "language": "python",
   "name": "python3"
  },
  "language_info": {
   "codemirror_mode": {
    "name": "ipython",
    "version": 3
   },
   "file_extension": ".py",
   "mimetype": "text/x-python",
   "name": "python",
   "nbconvert_exporter": "python",
   "pygments_lexer": "ipython3",
   "version": "3.8.13"
  },
  "vscode": {
   "interpreter": {
    "hash": "bfb036ca9b0f48deadbdb57e499a0a7394f2cad33ede51173a0d2ee054bfdfd3"
   }
  }
 },
 "nbformat": 4,
 "nbformat_minor": 5
}
