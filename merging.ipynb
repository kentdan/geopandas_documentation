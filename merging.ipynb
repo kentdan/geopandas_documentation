{
 "cells": [
  {
   "cell_type": "code",
   "execution_count": 5,
   "metadata": {},
   "outputs": [],
   "source": [
    "import geopandas"
   ]
  },
  {
   "cell_type": "code",
   "execution_count": 6,
   "metadata": {},
   "outputs": [],
   "source": [
    "world = geopandas.read_file(geopandas.datasets.get_path('naturalearth_lowres'))\n",
    "\n",
    "cities = geopandas.read_file(geopandas.datasets.get_path('naturalearth_cities'))\n",
    "\n",
    "# For attribute join\n",
    "country_shapes = world[['geometry', 'iso_a3']]\n",
    "\n",
    "country_names = world[['name', 'iso_a3']]\n",
    "\n",
    "# For spatial join\n",
    "countries = world[['geometry', 'name']]\n",
    "\n",
    "countries = countries.rename(columns={'name':'country'})"
   ]
  },
  {
   "cell_type": "code",
   "execution_count": 4,
   "metadata": {},
   "outputs": [
    {
     "name": "stderr",
     "output_type": "stream",
     "text": [
      "/Users/danielkent/miniforge3/envs/cv/lib/python3.9/site-packages/geopandas/geoseries.py:601: FutureWarning: The series.append method is deprecated and will be removed from pandas in a future version. Use pandas.concat instead.\n",
      "  val = getattr(super(), mtd)(*args, **kwargs)\n",
      "/var/folders/dz/_wrf45ls4pv058mvwtk4m17w0000gn/T/ipykernel_45489/1555635502.py:9: FutureWarning: The frame.append method is deprecated and will be removed from pandas in a future version. Use pandas.concat instead.\n",
      "  eurasia = europe.append(asia)\n"
     ]
    }
   ],
   "source": [
    "# Appending GeoSeries\n",
    "joined = world.geometry.append(cities.geometry)\n",
    "\n",
    "# Appending GeoDataFrames\n",
    "europe = world[world.continent == 'Europe']\n",
    "\n",
    "asia = world[world.continent == 'Asia']\n",
    "\n",
    "eurasia = europe.append(asia)"
   ]
  }
 ],
 "metadata": {
  "kernelspec": {
   "display_name": "Python 3.9.4 ('cv')",
   "language": "python",
   "name": "python3"
  },
  "language_info": {
   "codemirror_mode": {
    "name": "ipython",
    "version": 3
   },
   "file_extension": ".py",
   "mimetype": "text/x-python",
   "name": "python",
   "nbconvert_exporter": "python",
   "pygments_lexer": "ipython3",
   "version": "3.9.4"
  },
  "orig_nbformat": 4,
  "vscode": {
   "interpreter": {
    "hash": "f95b2c1aeeb9c94d93826e4150060d9ef09ce94daf9ee24113f4c5f6e64177f4"
   }
  }
 },
 "nbformat": 4,
 "nbformat_minor": 2
}
